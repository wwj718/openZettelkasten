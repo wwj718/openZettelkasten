{
 "cells": [
  {
   "cell_type": "code",
   "execution_count": 1,
   "metadata": {},
   "outputs": [],
   "source": [
    "import matplotlib.pyplot as plt\n",
    "%matplotlib inline"
   ]
  },
  {
   "cell_type": "code",
   "execution_count": 12,
   "metadata": {},
   "outputs": [],
   "source": [
    "import networkx as nx\n",
    "import nx_altair as nxa\n",
    "g = nx.Graph()"
   ]
  },
  {
   "cell_type": "markdown",
   "metadata": {},
   "source": [
    "\n",
    "[Python Interactive Network Visualization Using NetworkX, Plotly, and Dash](https://towardsdatascience.com/python-interactive-network-visualization-using-networkx-plotly-and-dash-e44749161ed7)\n",
    "\n",
    "NetworkX graph is exported to GEXF format, 标准文件，所以可以使用其他来可视化：  Gephi\n",
    "\n",
    "grave 在命令行下弹出\n",
    "\n",
    "https://docs.bokeh.org/en/latest/docs/user_guide/graph.html\n",
    "\n",
    "http://holoviews.org/index.html"
   ]
  },
  {
   "cell_type": "code",
   "execution_count": 3,
   "metadata": {},
   "outputs": [],
   "source": [
    "from fabfile import get_all_links"
   ]
  },
  {
   "cell_type": "code",
   "execution_count": 4,
   "metadata": {},
   "outputs": [],
   "source": [
    "all_links = get_all_links()"
   ]
  },
  {
   "cell_type": "code",
   "execution_count": 5,
   "metadata": {},
   "outputs": [
    {
     "data": {
      "text/plain": [
       "{'readme.md': ['20200223_2136-Zettelkasten笔记原则.md',\n",
       "  '20200223_2134-Zettelkasten是绝佳的笔记系统.md',\n",
       "  '20200223_2136-Zettelkasten笔记原则.md'],\n",
       " '20200223_2134-Zettelkasten是绝佳的笔记系统.md': ['20200223_2136-Zettelkasten笔记原则.md'],\n",
       " '20200223_2136-Zettelkasten笔记原则.md': []}"
      ]
     },
     "execution_count": 5,
     "metadata": {},
     "output_type": "execute_result"
    }
   ],
   "source": [
    "all_links"
   ]
  },
  {
   "cell_type": "code",
   "execution_count": 6,
   "metadata": {},
   "outputs": [],
   "source": [
    "dg = nx.DiGraph()"
   ]
  },
  {
   "cell_type": "code",
   "execution_count": 7,
   "metadata": {},
   "outputs": [],
   "source": [
    "'''dg.add_edges_from([\n",
    "    ('Variable', 'Select'),\n",
    "    ('Select', 'GroupBy'),\n",
    "    ('GroupBy', 'Mean'),\n",
    "    ('Mean', 'Which1'),\n",
    "    ('Mean', 'Which2'),\n",
    "    ('Which1', 'Decimal1'),\n",
    "    ('Which2', 'Decimal2'),\n",
    "    ('Decimal1', 'Add'),\n",
    "    ('Decimal2', 'Add'),\n",
    "])\n",
    "'''\n",
    "node_edge_tuples = []\n",
    "for i in all_links:\n",
    "    for j in all_links[i]:\n",
    "        node_edge_tuples.append((i,j))"
   ]
  },
  {
   "cell_type": "code",
   "execution_count": 8,
   "metadata": {},
   "outputs": [
    {
     "data": {
      "text/plain": [
       "[('readme.md', '20200223_2136-Zettelkasten笔记原则.md'),\n",
       " ('readme.md', '20200223_2134-Zettelkasten是绝佳的笔记系统.md'),\n",
       " ('readme.md', '20200223_2136-Zettelkasten笔记原则.md'),\n",
       " ('20200223_2134-Zettelkasten是绝佳的笔记系统.md',\n",
       "  '20200223_2136-Zettelkasten笔记原则.md')]"
      ]
     },
     "execution_count": 8,
     "metadata": {},
     "output_type": "execute_result"
    }
   ],
   "source": [
    "node_edge_tuples"
   ]
  },
  {
   "cell_type": "code",
   "execution_count": 9,
   "metadata": {},
   "outputs": [],
   "source": [
    "dg.add_edges_from(node_edge_tuples)"
   ]
  },
  {
   "cell_type": "code",
   "execution_count": 10,
   "metadata": {},
   "outputs": [
    {
     "data": {
      "image/png": "[encoded data removed]",
      "text/plain": [
       "<Figure size 432x288 with 1 Axes>"
      ]
     },
     "metadata": {},
     "output_type": "display_data"
    }
   ],
   "source": [
    "nx.draw(dg, with_labels=True)"
   ]
  },
  {
   "cell_type": "code",
   "execution_count": 13,
   "metadata": {},
   "outputs": [
    {
     "data": {
      "text/html": [
       "\n",
       "<div id=\"altair-viz-dd46322acce54f779df9a9c5de725d4f\"></div>\n",
       "<script type=\"text/javascript\">\n",
       "  (function(spec, embedOpt){\n",
       "    const outputDiv = document.getElementById(\"altair-viz-dd46322acce54f779df9a9c5de725d4f\");\n",
       "    const paths = {\n",
       "      \"vega\": \"https://cdn.jsdelivr.net/npm//vega@5?noext\",\n",
       "      \"vega-lib\": \"https://cdn.jsdelivr.net/npm//vega-lib?noext\",\n",
       "      \"vega-lite\": \"https://cdn.jsdelivr.net/npm//vega-lite@4.0.2?noext\",\n",
       "      \"vega-embed\": \"https://cdn.jsdelivr.net/npm//vega-embed@6?noext\",\n",
       "    };\n",
       "\n",
       "    function loadScript(lib) {\n",
       "      return new Promise(function(resolve, reject) {\n",
       "        var s = document.createElement('script');\n",
       "        s.src = paths[lib];\n",
       "        s.async = true;\n",
       "        s.onload = () => resolve(paths[lib]);\n",
       "        s.onerror = () => reject(`Error loading script: ${paths[lib]}`);\n",
       "        document.getElementsByTagName(\"head\")[0].appendChild(s);\n",
       "      });\n",
       "    }\n",
       "\n",
       "    function showError(err) {\n",
       "      outputDiv.innerHTML = `<div class=\"error\" style=\"color:red;\">${err}</div>`;\n",
       "      throw err;\n",
       "    }\n",
       "\n",
       "    function displayChart(vegaEmbed) {\n",
       "      vegaEmbed(outputDiv, spec, embedOpt)\n",
       "        .catch(err => showError(`Javascript Error: ${err.message}<br>This usually means there's a typo in your chart specification. See the javascript console for the full traceback.`));\n",
       "    }\n",
       "\n",
       "    if(typeof define === \"function\" && define.amd) {\n",
       "      requirejs.config({paths});\n",
       "      require([\"vega-embed\"], displayChart, err => showError(`Error loading script: ${err.message}`));\n",
       "    } else if (typeof vegaEmbed === \"function\") {\n",
       "      displayChart(vegaEmbed);\n",
       "    } else {\n",
       "      loadScript(\"vega\")\n",
       "        .then(() => loadScript(\"vega-lite\"))\n",
       "        .then(() => loadScript(\"vega-embed\"))\n",
       "        .catch(showError)\n",
       "        .then(() => displayChart(vegaEmbed));\n",
       "    }\n",
       "  })({\"config\": {\"view\": {\"continuousWidth\": 400, \"continuousHeight\": 300}, \"axis\": {\"domain\": false, \"grid\": false, \"labels\": false, \"ticks\": false}}, \"layer\": [{\"data\": {\"name\": \"data-d9de2a0e4e26a1446b5581ecb18dc7fb\"}, \"mark\": {\"type\": \"line\", \"color\": \"black\", \"opacity\": 1, \"strokeWidth\": 1}, \"encoding\": {\"detail\": {\"type\": \"quantitative\", \"field\": \"edge\"}, \"x\": {\"type\": \"quantitative\", \"axis\": {\"title\": \"\"}, \"field\": \"x\"}, \"y\": {\"type\": \"quantitative\", \"axis\": {\"title\": \"\"}, \"field\": \"y\"}}}, {\"data\": {\"name\": \"data-8671481a82f82440258b74902d097613\"}, \"mark\": {\"type\": \"line\", \"color\": \"black\", \"opacity\": 1, \"strokeWidth\": 2}, \"encoding\": {\"detail\": {\"type\": \"quantitative\", \"field\": \"edge\"}, \"x\": {\"type\": \"quantitative\", \"field\": \"x\"}, \"y\": {\"type\": \"quantitative\", \"field\": \"y\"}}}, {\"data\": {\"name\": \"data-b81b03c8b20a1d758baa348a32e59d6d\"}, \"mark\": {\"type\": \"point\", \"fill\": \"red\", \"opacity\": 1, \"size\": 300}, \"encoding\": {\"tooltip\": [{\"type\": \"nominal\", \"field\": \"name\"}], \"x\": {\"type\": \"quantitative\", \"field\": \"x\"}, \"y\": {\"type\": \"quantitative\", \"field\": \"y\"}}}], \"$schema\": \"https://vega.github.io/schema/vega-lite/v4.0.2.json\", \"datasets\": {\"data-d9de2a0e4e26a1446b5581ecb18dc7fb\": [{\"x\": -0.2420110392078406, \"source\": \"readme.md\", \"pair\": [\"readme.md\", \"20200223_2136-Zettelkasten\\u7b14\\u8bb0\\u539f\\u5219.md\"], \"edge\": 0, \"y\": -0.46127106272424223, \"target\": \"20200223_2136-Zettelkasten\\u7b14\\u8bb0\\u539f\\u5219.md\"}, {\"x\": 1.0, \"source\": \"readme.md\", \"pair\": [\"readme.md\", \"20200223_2136-Zettelkasten\\u7b14\\u8bb0\\u539f\\u5219.md\"], \"edge\": 0, \"y\": -0.17272572121169494, \"target\": \"20200223_2136-Zettelkasten\\u7b14\\u8bb0\\u539f\\u5219.md\"}, {\"x\": -0.2420110392078406, \"source\": \"readme.md\", \"pair\": [\"readme.md\", \"20200223_2134-Zettelkasten\\u662f\\u7edd\\u4f73\\u7684\\u7b14\\u8bb0\\u7cfb\\u7edf.md\"], \"edge\": 1, \"y\": -0.46127106272424223, \"target\": \"20200223_2134-Zettelkasten\\u662f\\u7edd\\u4f73\\u7684\\u7b14\\u8bb0\\u7cfb\\u7edf.md\"}, {\"x\": -0.7579889607921594, \"source\": \"readme.md\", \"pair\": [\"readme.md\", \"20200223_2134-Zettelkasten\\u662f\\u7edd\\u4f73\\u7684\\u7b14\\u8bb0\\u7cfb\\u7edf.md\"], \"edge\": 1, \"y\": 0.6339967839359376, \"target\": \"20200223_2134-Zettelkasten\\u662f\\u7edd\\u4f73\\u7684\\u7b14\\u8bb0\\u7cfb\\u7edf.md\"}, {\"x\": -0.7579889607921594, \"source\": \"20200223_2134-Zettelkasten\\u662f\\u7edd\\u4f73\\u7684\\u7b14\\u8bb0\\u7cfb\\u7edf.md\", \"pair\": [\"20200223_2134-Zettelkasten\\u662f\\u7edd\\u4f73\\u7684\\u7b14\\u8bb0\\u7cfb\\u7edf.md\", \"20200223_2136-Zettelkasten\\u7b14\\u8bb0\\u539f\\u5219.md\"], \"edge\": 2, \"y\": 0.6339967839359376, \"target\": \"20200223_2136-Zettelkasten\\u7b14\\u8bb0\\u539f\\u5219.md\"}, {\"x\": 1.0, \"source\": \"20200223_2134-Zettelkasten\\u662f\\u7edd\\u4f73\\u7684\\u7b14\\u8bb0\\u7cfb\\u7edf.md\", \"pair\": [\"20200223_2134-Zettelkasten\\u662f\\u7edd\\u4f73\\u7684\\u7b14\\u8bb0\\u7cfb\\u7edf.md\", \"20200223_2136-Zettelkasten\\u7b14\\u8bb0\\u539f\\u5219.md\"], \"edge\": 2, \"y\": -0.17272572121169494, \"target\": \"20200223_2136-Zettelkasten\\u7b14\\u8bb0\\u539f\\u5219.md\"}], \"data-8671481a82f82440258b74902d097613\": [{\"x\": 1.0, \"source\": \"readme.md\", \"pair\": [\"readme.md\", \"20200223_2136-Zettelkasten\\u7b14\\u8bb0\\u539f\\u5219.md\"], \"edge\": 0, \"y\": -0.17272572121169494, \"target\": \"20200223_2136-Zettelkasten\\u7b14\\u8bb0\\u539f\\u5219.md\"}, {\"x\": 0.8757988960792159, \"source\": \"readme.md\", \"pair\": [\"readme.md\", \"20200223_2136-Zettelkasten\\u7b14\\u8bb0\\u539f\\u5219.md\"], \"edge\": 0, \"y\": -0.20158025536294966, \"target\": \"20200223_2136-Zettelkasten\\u7b14\\u8bb0\\u539f\\u5219.md\"}, {\"x\": -0.7579889607921594, \"source\": \"readme.md\", \"pair\": [\"readme.md\", \"20200223_2134-Zettelkasten\\u662f\\u7edd\\u4f73\\u7684\\u7b14\\u8bb0\\u7cfb\\u7edf.md\"], \"edge\": 1, \"y\": 0.6339967839359376, \"target\": \"20200223_2134-Zettelkasten\\u662f\\u7edd\\u4f73\\u7684\\u7b14\\u8bb0\\u7cfb\\u7edf.md\"}, {\"x\": -0.7063911686337275, \"source\": \"readme.md\", \"pair\": [\"readme.md\", \"20200223_2134-Zettelkasten\\u662f\\u7edd\\u4f73\\u7684\\u7b14\\u8bb0\\u7cfb\\u7edf.md\"], \"edge\": 1, \"y\": 0.5244699992699196, \"target\": \"20200223_2134-Zettelkasten\\u662f\\u7edd\\u4f73\\u7684\\u7b14\\u8bb0\\u7cfb\\u7edf.md\"}, {\"x\": 1.0, \"source\": \"20200223_2134-Zettelkasten\\u662f\\u7edd\\u4f73\\u7684\\u7b14\\u8bb0\\u7cfb\\u7edf.md\", \"pair\": [\"20200223_2134-Zettelkasten\\u662f\\u7edd\\u4f73\\u7684\\u7b14\\u8bb0\\u7cfb\\u7edf.md\", \"20200223_2136-Zettelkasten\\u7b14\\u8bb0\\u539f\\u5219.md\"], \"edge\": 2, \"y\": -0.17272572121169494, \"target\": \"20200223_2136-Zettelkasten\\u7b14\\u8bb0\\u539f\\u5219.md\"}, {\"x\": 0.824201103920784, \"source\": \"20200223_2134-Zettelkasten\\u662f\\u7edd\\u4f73\\u7684\\u7b14\\u8bb0\\u7cfb\\u7edf.md\", \"pair\": [\"20200223_2134-Zettelkasten\\u662f\\u7edd\\u4f73\\u7684\\u7b14\\u8bb0\\u7cfb\\u7edf.md\", \"20200223_2136-Zettelkasten\\u7b14\\u8bb0\\u539f\\u5219.md\"], \"edge\": 2, \"y\": -0.09205347069693168, \"target\": \"20200223_2136-Zettelkasten\\u7b14\\u8bb0\\u539f\\u5219.md\"}], \"data-b81b03c8b20a1d758baa348a32e59d6d\": [{\"x\": -0.2420110392078406, \"name\": \"readme.md\", \"y\": -0.46127106272424223}, {\"x\": 1.0, \"name\": \"20200223_2136-Zettelkasten\\u7b14\\u8bb0\\u539f\\u5219.md\", \"y\": -0.17272572121169494}, {\"x\": -0.7579889607921594, \"name\": \"20200223_2134-Zettelkasten\\u662f\\u7edd\\u4f73\\u7684\\u7b14\\u8bb0\\u7cfb\\u7edf.md\", \"y\": 0.6339967839359376}]}}, {\"mode\": \"vega-lite\"});\n",
       "</script>"
      ],
      "text/plain": [
       "alt.LayerChart(...)"
      ]
     },
     "execution_count": 13,
     "metadata": {},
     "output_type": "execute_result"
    }
   ],
   "source": [
    "pos = nx.spring_layout(dg)\n",
    "for n in dg.nodes:\n",
    "    dg.nodes[n]['name'] = n # type(n) -> str\n",
    "nxa.draw_networkx( \n",
    "    G=dg,\n",
    "    pos=pos,\n",
    "    node_tooltip=['name'] # 无效\n",
    ") # .interactive() tip会失效"
   ]
  },
  {
   "cell_type": "code",
   "execution_count": 21,
   "metadata": {},
   "outputs": [
    {
     "data": {
      "text/html": [
       "\n",
       "        <iframe\n",
       "            width=\"500px\"\n",
       "            height=\"500px\"\n",
       "            src=\"example.html\"\n",
       "            frameborder=\"0\"\n",
       "            allowfullscreen\n",
       "        ></iframe>\n",
       "        "
      ],
      "text/plain": [
       "<IPython.lib.display.IFrame at 0x1212cc128>"
      ]
     },
     "execution_count": 21,
     "metadata": {},
     "output_type": "execute_result"
    }
   ],
   "source": [
    "# https://github.com/WestHealth/pyvis/blob/master/notebooks/example.ipynb\n",
    "from pyvis.network import Network\n",
    "g = Network(notebook=True) #,width=1400)\n",
    "g.from_nx(dg)\n",
    "g.show(\"example.html\")"
   ]
  }
 ],
 "metadata": {
  "kernelspec": {
   "display_name": "Python 3",
   "language": "python",
   "name": "python3"
  },
  "language_info": {
   "codemirror_mode": {
    "name": "ipython",
    "version": 3
   },
   "file_extension": ".py",
   "mimetype": "text/x-python",
   "name": "python",
   "nbconvert_exporter": "python",
   "pygments_lexer": "ipython3",
   "version": "3.7.2"
  }
 },
 "nbformat": 4,
 "nbformat_minor": 2
}
